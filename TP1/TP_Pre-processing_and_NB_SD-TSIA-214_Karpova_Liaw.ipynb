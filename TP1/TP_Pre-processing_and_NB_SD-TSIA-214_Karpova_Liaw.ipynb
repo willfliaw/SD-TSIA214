{
 "cells": [
  {
   "cell_type": "markdown",
   "metadata": {},
   "source": [
    "# TP : Sentiment analysis on IMDB movie reviews\n",
    "\n",
    "Author: Anastasiia Karpova and William Liaw."
   ]
  },
  {
   "cell_type": "markdown",
   "metadata": {},
   "source": [
    "## Objectives\n",
    "\n",
    "1. Implement a simple way to represent text data - Bag of words\n",
    "2. Implement a basic statistical learning model - Bayesian Naive\n",
    "3. Use these representations and this model for a sentiment analysis task.\n",
    "4. Experiment with various way to reduce the vocabulary size and look at the distribution obtained."
   ]
  },
  {
   "cell_type": "markdown",
   "metadata": {},
   "source": [
    "## Necessary dependancies\n",
    "\n",
    "We will need the following packages:\n",
    "- The Machine Learning API Scikit-learn : http://scikit-learn.org/stable/install.html\n",
    "- The Natural Language Toolkit : http://www.nltk.org/install.html\n",
    "\n",
    "Both are available with Anaconda: https://anaconda.org/anaconda/nltk and https://anaconda.org/anaconda/scikit-learn"
   ]
  },
  {
   "cell_type": "code",
   "execution_count": 1,
   "metadata": {},
   "outputs": [],
   "source": [
    "import os.path as op\n",
    "import re\n",
    "\n",
    "import matplotlib.pyplot as plt\n",
    "import numpy as np"
   ]
  },
  {
   "cell_type": "markdown",
   "metadata": {},
   "source": [
    "## Loading data\n",
    "\n",
    "We retrieve the textual data in the variable *texts*.\n",
    "\n",
    "The labels are retrieved in the variable $y$ - it contains *len(texts)* of them: $0$ indicates that the corresponding review is negative while $1$ indicates that it is positive."
   ]
  },
  {
   "cell_type": "code",
   "execution_count": 2,
   "metadata": {},
   "outputs": [],
   "source": [
    "from glob import glob\n",
    "\n",
    "# We get the files from the path: ./aclImdb/train/neg for negative reviews, and ./aclImdb/train/pos for positive reviews\n",
    "train_filenames_neg = sorted(glob(op.join(\".\", \"aclImdb\", \"train\", \"neg\", \"*.txt\")))\n",
    "train_filenames_pos = sorted(glob(op.join(\".\", \"aclImdb\", \"train\", \"pos\", \"*.txt\")))\n",
    "\n",
    "# Each files contains a review that consists in one line of text: we put this string in two lists, that we concatenate\n",
    "train_texts_neg = [open(f, encoding=\"utf8\").read() for f in train_filenames_neg]\n",
    "train_texts_pos = [open(f, encoding=\"utf8\").read() for f in train_filenames_pos]\n",
    "train_texts = train_texts_neg + train_texts_pos\n",
    "\n",
    "# The first half of the elements of the list are string of negative reviews, and the second half positive ones\n",
    "# We create the labels, as an array of [1,len(texts)], filled with 1, and change the first half to 0\n",
    "train_labels = np.ones(len(train_texts), dtype=int)\n",
    "train_labels[: len(train_texts_neg)] = 0.0"
   ]
  },
  {
   "cell_type": "code",
   "execution_count": 3,
   "metadata": {},
   "outputs": [
    {
     "data": {
      "text/plain": [
       "\"Story of a man who has unnatural feelings for a pig. Starts out with a opening scene that is a terrific example of absurd comedy. A formal orchestra audience is turned into an insane, violent mob by the crazy chantings of it's singers. Unfortunately it stays absurd the WHOLE time with no general narrative eventually making it just too off putting. Even those from the era should be turned off. The cryptic dialogue would make Shakespeare seem easy to a third grader. On a technical level it's better than you might think with some good cinematography by future great Vilmos Zsigmond. Future stars Sally Kirkland and Frederic Forrest can be seen briefly.\""
      ]
     },
     "execution_count": 3,
     "metadata": {},
     "output_type": "execute_result"
    }
   ],
   "source": [
    "open(\"./aclImdb/train/neg/0_3.txt\", encoding=\"utf8\").read()"
   ]
  },
  {
   "cell_type": "markdown",
   "metadata": {},
   "source": [
    "**In this lab, the impact of our choice of representations upon our results will also depend on the quantity of data we use:** try to see how changing the parameter ```k``` affects our results !"
   ]
  },
  {
   "cell_type": "code",
   "execution_count": 4,
   "metadata": {},
   "outputs": [
    {
     "name": "stdout",
     "output_type": "stream",
     "text": [
      "Number of documents: 2500\n"
     ]
    }
   ],
   "source": [
    "# This number of documents may be high for most computers: we can select a fraction of them (here, one in k)\n",
    "# Use an even number to keep the same number of positive and negative reviews\n",
    "k = 10\n",
    "train_texts_reduced = train_texts[0::k]\n",
    "train_labels_reduced = train_labels[0::k]\n",
    "\n",
    "print(\"Number of documents:\", len(train_texts_reduced))"
   ]
  },
  {
   "cell_type": "markdown",
   "metadata": {},
   "source": [
    "We can use a function from sklearn, `train_test_split`, to separate data into training and validation sets:"
   ]
  },
  {
   "cell_type": "code",
   "execution_count": 5,
   "metadata": {},
   "outputs": [],
   "source": [
    "from sklearn.model_selection import train_test_split"
   ]
  },
  {
   "cell_type": "code",
   "execution_count": 6,
   "metadata": {},
   "outputs": [],
   "source": [
    "train_texts_splt, val_texts, train_labels_splt, val_labels = train_test_split(\n",
    "    train_texts_reduced, train_labels_reduced, test_size=0.2\n",
    ")"
   ]
  },
  {
   "cell_type": "markdown",
   "metadata": {},
   "source": [
    "## I - Adapted representation of documents\n",
    "\n",
    "Our statistical model, like most models applied to textual data, uses counts of word occurrences in a document. Thus, a very convenient way to represent a document is to use a Bag-of-Words (BoW) vector, containing the counts of each word (regardless of their order of occurrence) in the document. \n",
    "\n",
    "If we consider the set of all the words appearing in our $T$ training documents, which we note $V$ (Vocabulary), we can create **an index**, which is a bijection associating to each $w$ word an integer, which will be its position in $V$. \n",
    "\n",
    "Thus, for a document extracted from a set of documents containing $|V|$ different words, a BoW representation will be a vector of size $|V|$, whose value at the index of a word $w$ will be its number of occurrences in the document. \n",
    "\n",
    "We can use the **CountVectorizer** class from scikit-learn to obtain these representations:"
   ]
  },
  {
   "cell_type": "code",
   "execution_count": 7,
   "metadata": {},
   "outputs": [],
   "source": [
    "from sklearn.feature_extraction.text import CountVectorizer\n",
    "\n",
    "from sklearn.model_selection import cross_val_score\n",
    "from sklearn.base import BaseEstimator, ClassifierMixin"
   ]
  },
  {
   "cell_type": "code",
   "execution_count": 8,
   "metadata": {},
   "outputs": [
    {
     "name": "stdout",
     "output_type": "stream",
     "text": [
      "['avenue' 'boulevard' 'city' 'down' 'ran' 'the' 'walk' 'walked']\n"
     ]
    },
    {
     "data": {
      "text/plain": [
       "array([[0, 1, 0, 2, 0, 1, 0, 1],\n",
       "       [1, 0, 0, 1, 0, 1, 0, 1],\n",
       "       [0, 1, 0, 1, 1, 1, 0, 0],\n",
       "       [0, 0, 1, 1, 0, 1, 1, 0],\n",
       "       [1, 0, 0, 1, 0, 2, 1, 0]], dtype=int64)"
      ]
     },
     "execution_count": 8,
     "metadata": {},
     "output_type": "execute_result"
    }
   ],
   "source": [
    "corpus = [\n",
    "    \"I walked down down the boulevard\",\n",
    "    \"I walked down the avenue\",\n",
    "    \"I ran down the boulevard\",\n",
    "    \"I walk down the city\",\n",
    "    \"I walk down the the avenue\",\n",
    "]\n",
    "vectorizer = CountVectorizer()\n",
    "\n",
    "Bow = vectorizer.fit_transform(corpus)\n",
    "\n",
    "print(vectorizer.get_feature_names_out())\n",
    "Bow.toarray()"
   ]
  },
  {
   "cell_type": "markdown",
   "metadata": {},
   "source": [
    "We display the list containing the words ordered according to their index (Note that words of 2 characters or less are not counted)."
   ]
  },
  {
   "cell_type": "markdown",
   "metadata": {},
   "source": [
    "### Preprocessing the text: get the BoW representations ##\n",
    "\n",
    "The first thing to do is to turn the review from a string into a list of words. The simplest method is to divide the string according to spaces with the command:\n",
    "``text.split()``\n",
    "\n",
    "But we must also be careful to remove special characters that may not have been cleaned up (such as HTML tags if the data was obtained from web pages). Since we're going to count words, we'll have to build a list of tokens appearing in our data. In our case, we'd like to reduce this list and make it uniform (ignore capitalization, punctuation, and the shortest words). \n",
    "We will therefore use a function adapted to our needs - but this is a job that we generally don't need to do ourselves, since there are many tools already adapted to most situations. \n",
    "For text cleansing, there are many scripts, based on different tools (regular expressions, for example) that allow you to prepare data. The division of the text into words and the management of punctuation is handled in a step called *tokenization*; if needed, a python package like NLTK contains many different *tokenizers*."
   ]
  },
  {
   "cell_type": "code",
   "execution_count": 9,
   "metadata": {},
   "outputs": [
    {
     "name": "stdout",
     "output_type": "stream",
     "text": [
      "['walked', 'down', 'down', 'the', 'boulevard', 'walked', 'down', 'the', 'avenue', 'ran', 'down', 'the', 'boulevard', 'walk', 'down', 'the', 'city', 'walk', 'down', 'the', 'the', 'avenue']\n",
      "['I', 'walked', 'down', 'down', 'the', 'boulevard', '.', 'I', 'walked', 'down', 'the', 'avenue', '.', 'I', 'ran', 'down', 'the', 'boulevard', '.', 'I', 'walk', 'down', 'the', 'city', '.', 'I', 'walk', 'down', 'the', 'the', 'avenue', '.']\n"
     ]
    }
   ],
   "source": [
    "# We might want to clean the file with various strategies:\n",
    "def clean_and_tokenize(text):\n",
    "    \"\"\"\n",
    "    Cleaning a document with:\n",
    "        - Lowercase\n",
    "        - Removing numbers with regular expressions\n",
    "        - Removing punctuation with regular expressions\n",
    "        - Removing other artifacts\n",
    "    And separate the document into words by simply splitting at spaces\n",
    "    Params:\n",
    "        text (string): a sentence or a document\n",
    "    Returns:\n",
    "        tokens (list of strings): the list of tokens (word units) forming the document\n",
    "    \"\"\"\n",
    "    # Lowercase\n",
    "    text = text.lower()\n",
    "    # Remove numbers\n",
    "    text = re.sub(r\"[0-9]+\", \"\", text)\n",
    "    # Remove punctuation\n",
    "    REMOVE_PUNCT = re.compile(\"[.;:!'?,\\\"()\\[\\]]\")\n",
    "    text = REMOVE_PUNCT.sub(\"\", text)\n",
    "    # Remove small words (1 and 2 characters)\n",
    "    text = re.sub(r\"\\b\\w{1,2}\\b\", \"\", text)\n",
    "    # Remove HTML artifacts specific to the corpus we're going to work with\n",
    "    REPLACE_HTML = re.compile(\"(<br\\s*/><br\\s*/>)|(\\-)|(\\/)\")\n",
    "    text = REPLACE_HTML.sub(\" \", text)\n",
    "\n",
    "    tokens = text.split()\n",
    "    return tokens\n",
    "\n",
    "\n",
    "# Or we might want to use an already-implemented tool. The NLTK package has a lot of very useful text processing tools, among them various tokenizers\n",
    "# Careful, NLTK was the first well-documented NLP package, but it might be outdated for some uses. Check the documentation !\n",
    "from nltk.tokenize import word_tokenize\n",
    "\n",
    "corpus_raw = \"I walked down down the boulevard. I walked down the avenue. I ran down the boulevard. I walk down the city. I walk down the the avenue.\"\n",
    "print(clean_and_tokenize(corpus_raw))\n",
    "print(word_tokenize(corpus_raw))"
   ]
  },
  {
   "cell_type": "markdown",
   "metadata": {},
   "source": [
    "The next function takes as input a list of documents (each in the form of a string) and returns, as in the example using ``CountVectorizer``:\n",
    "- A vocabulary that associates, to each word encountered, an index\n",
    "- A matrix, with rows representing documents and columns representing words indexed by the vocabulary. In position $(i,j)$, one should have the number of occurrences of the word $j$ in the document $i$.\n",
    "\n",
    "The vocabulary, which was in the form of a *list* in the previous example, can be returned in the form of a *dictionary* whose keys are the words and values are the indices. Since the vocabulary lists the words in the corpus without worrying about their number of occurrences, it can be built up using a set (in python).\n",
    "\n",
    "<div class='alert alert-block alert-info'>\n",
    "            Code:</div>"
   ]
  },
  {
   "cell_type": "code",
   "execution_count": 10,
   "metadata": {},
   "outputs": [],
   "source": [
    "def count_words(texts):\n",
    "    \"\"\"Vectorize text : return count of each word in the text snippets\n",
    "\n",
    "    Parameters\n",
    "    ----------\n",
    "    texts : list of str\n",
    "        The texts\n",
    "    Returns\n",
    "    -------\n",
    "    vocabulary : dict\n",
    "        A dictionary that points to an index in counts for each word.\n",
    "    counts : ndarray, shape (n_samples, n_features)\n",
    "        The counts of each word in each text.\n",
    "    \"\"\"\n",
    "    vocabulary = set()\n",
    "    cleaned_texts = []\n",
    "    for text in texts:\n",
    "        words = clean_and_tokenize(text)\n",
    "        cleaned_texts.append(words)\n",
    "        vocabulary.update(words)\n",
    "\n",
    "    vocabulary = {word: index for index, word in enumerate(sorted(vocabulary))}\n",
    "\n",
    "    counts = np.zeros((len(texts), len(vocabulary)), dtype=\"int\")\n",
    "    for index, text in enumerate(cleaned_texts):\n",
    "        for word in text:\n",
    "            counts[index, vocabulary[word]] += 1\n",
    "\n",
    "    return vocabulary, counts"
   ]
  },
  {
   "cell_type": "code",
   "execution_count": 11,
   "metadata": {},
   "outputs": [
    {
     "name": "stdout",
     "output_type": "stream",
     "text": [
      "{'avenue': 0, 'boulevard': 1, 'city': 2, 'down': 3, 'ran': 4, 'the': 5, 'walk': 6, 'walked': 7}\n",
      "[[0 1 0 2 0 1 0 1]\n",
      " [1 0 0 1 0 1 0 1]\n",
      " [0 1 0 1 1 1 0 0]\n",
      " [0 0 1 1 0 1 1 0]\n",
      " [1 0 0 1 0 2 1 0]]\n"
     ]
    }
   ],
   "source": [
    "Voc, X = count_words(corpus)\n",
    "print(Voc)\n",
    "print(X)"
   ]
  },
  {
   "cell_type": "markdown",
   "metadata": {},
   "source": [
    "Now, if we want to represent text that was not available when building the vocabulary, we will not be able to represent **new words** ! Let's take a look at how CountVectorizer does it:"
   ]
  },
  {
   "cell_type": "code",
   "execution_count": 12,
   "metadata": {},
   "outputs": [
    {
     "data": {
      "text/plain": [
       "array([[0, 0, 0, 0, 0, 1, 0, 1]], dtype=int64)"
      ]
     },
     "execution_count": 12,
     "metadata": {},
     "output_type": "execute_result"
    }
   ],
   "source": [
    "val_corpus = [\"I walked up the street\"]\n",
    "Bow = vectorizer.transform(val_corpus)\n",
    "Bow.toarray()"
   ]
  },
  {
   "cell_type": "markdown",
   "metadata": {},
   "source": [
    "Modify the ```count_words``` function to be able to deal with new documents when given a previously obtained vocabulary ! \n",
    "\n",
    "<div class='alert alert-block alert-info'>\n",
    "            Code:</div>"
   ]
  },
  {
   "cell_type": "code",
   "execution_count": 13,
   "metadata": {},
   "outputs": [],
   "source": [
    "def count_words(texts, voc=None):\n",
    "    \"\"\"Vectorize text : return count of each word in the text snippets\n",
    "\n",
    "    Parameters\n",
    "    ----------\n",
    "    texts : list of str\n",
    "        The texts\n",
    "    voc : dict\n",
    "        A dictionary that points to an index in counts for each word - output by a previous use of the function\n",
    "        If not None, use this one\n",
    "    Returns\n",
    "    -------\n",
    "    vocabulary : dict\n",
    "        A dictionary that points to an index in counts for each word.\n",
    "    counts : ndarray, shape (n_samples, n_features)\n",
    "        The counts of each word in each text.\n",
    "    \"\"\"\n",
    "    if voc is None:\n",
    "        vocabulary = set()\n",
    "        cleaned_texts = []\n",
    "        for text in texts:\n",
    "            words = clean_and_tokenize(text)\n",
    "            # words = word_tokenize(text)\n",
    "            cleaned_texts.append(words)\n",
    "            vocabulary.update(words)\n",
    "\n",
    "        vocabulary = {word: index for index, word in enumerate(sorted(vocabulary))}\n",
    "\n",
    "        counts = np.zeros((len(texts), len(vocabulary)), dtype=\"int\")\n",
    "        for index, text in enumerate(cleaned_texts):\n",
    "            for word in text:\n",
    "                counts[index, vocabulary[word]] += 1\n",
    "    else:\n",
    "        vocabulary = voc.copy()\n",
    "\n",
    "        counts = np.zeros((len(texts), len(vocabulary)), dtype=\"int\")\n",
    "\n",
    "        for index, text in enumerate(texts):\n",
    "            words = clean_and_tokenize(text)\n",
    "            for word in words:\n",
    "                if word in vocabulary:\n",
    "                    counts[index, vocabulary[word]] += 1\n",
    "\n",
    "    return vocabulary, counts"
   ]
  },
  {
   "cell_type": "markdown",
   "metadata": {},
   "source": [
    "<div class='alert alert-block alert-warning'>\n",
    "            Questions:</div>\n",
    "\n",
    "Careful: check the size that the representations are going to have (given the way they are build). What does this imply for the memory use ? What `CountVectorizer` argument allows to avoid the issue ?\n",
    "\n",
    "<div class='alert alert-block alert-success'>\n",
    "            Answer:</div>\n",
    "\n",
    "Utilizing the `CountVectorizer` without precautions may result in excessive memory usage, particularly when managing extensive vocabularies or a substantial volume of documents. The size of the representation is contingent upon both the vocabulary size and the document count.\n",
    "\n",
    "To mitigate memory-related issues, it's advisable to employ the `max_features` parameter in the `CountVectorizer`. This parameter regulates the maximum number of features, i.e., unique words, to be extracted from the text corpus. By restricting the number of features, one can effectively manage memory consumption.\n",
    "\n",
    "However, it's crucial to note that the `max_features` parameter is disregarded if the `vocabulary` parameter is not `None`. Therefore, careful consideration is warranted when specifying the `vocabulary` used to initialize the `CountVectorizer`.\n",
    "\n",
    "<div class='alert alert-block alert-info'>\n",
    "            Code:</div>"
   ]
  },
  {
   "cell_type": "code",
   "execution_count": 14,
   "metadata": {},
   "outputs": [
    {
     "name": "stdout",
     "output_type": "stream",
     "text": [
      "(2000, 29620)\n"
     ]
    }
   ],
   "source": [
    "voc, train_bow = count_words(train_texts_splt)\n",
    "print(train_bow.shape)"
   ]
  },
  {
   "cell_type": "code",
   "execution_count": 15,
   "metadata": {},
   "outputs": [
    {
     "name": "stdout",
     "output_type": "stream",
     "text": [
      "(500, 29620)\n"
     ]
    }
   ],
   "source": [
    "_, val_bow = count_words(val_texts, voc)\n",
    "print(val_bow.shape)"
   ]
  },
  {
   "cell_type": "code",
   "execution_count": 16,
   "metadata": {},
   "outputs": [
    {
     "name": "stdout",
     "output_type": "stream",
     "text": [
      "(2000, 25560)\n"
     ]
    }
   ],
   "source": [
    "# Do the same with a CountVectorizer: create and fit the vectorizer to the training data\n",
    "vectorizer = CountVectorizer()\n",
    "Bow = vectorizer.fit_transform(train_texts_splt)\n",
    "train_bow_cv = Bow.toarray()\n",
    "print(train_bow_cv.shape)"
   ]
  },
  {
   "cell_type": "code",
   "execution_count": 17,
   "metadata": {},
   "outputs": [
    {
     "name": "stdout",
     "output_type": "stream",
     "text": [
      "(500, 25560)\n"
     ]
    }
   ],
   "source": [
    "# Transform the validation data\n",
    "val_bow_cv = vectorizer.transform(val_texts).toarray()\n",
    "print(val_bow_cv.shape)"
   ]
  },
  {
   "cell_type": "markdown",
   "metadata": {},
   "source": [
    "## II- Naive Bayesian \n",
    "\n",
    "### Main idea\n",
    "\n",
    "A movie review is in fact a list of words $s = (w_1, ..., w_N)$, and we try to find the associated class $c$ - which in our case may be $c = 0$ or $c = 1$. The objective is thus to find for each review $s$ the class $\\hat{c}$ maximizing the conditional probability **$P(c|s)$** : \n",
    "\n",
    "$$\\hat{c} = \\underset{c}{\\mathrm{argmax}}\\, P(c|s) = \\underset{c}{\\mathrm{argmax}}\\,\\frac{P(s|c)P(c)}{P(s)}$$\n",
    "\n",
    "**Hypothesis : P(s) is constant for each class** :\n",
    "\n",
    "$$\\hat{c} = \\underset{c}{\\mathrm{argmax}}\\,\\frac{P(s|c)P(c)}{P(s)} = \\underset{c}{\\mathrm{argmax}}\\,P(s|c)P(c)$$\n",
    "\n",
    "**Naive hypothesis : the variables (words) of a review are independant between themselves** : \n",
    "\n",
    "$$P(s|c) = P(w_1, ..., w_N|c)=\\Pi_{i=1..N}P(w_i|c)$$"
   ]
  },
  {
   "cell_type": "markdown",
   "metadata": {},
   "source": [
    "### General view\n",
    "\n",
    "#### Training: Estimating the probabilities\n",
    "\n",
    "For each word $w$ in the vocabulary $V$, $P(w|c)$ is the number of occurrences of $w$ in all reviews of class $c$, divided by the total number of occurrences in $c$. If we note $T(w,c)$ this number of occurrences, we get:\n",
    "\n",
    "$$P(w|c) = \\text{Frequency of }w\\text{ in }c = \\frac{T(w,c)}{\\sum_{w' \\in V} T(w',c)}$$\n",
    "\n",
    "#### Test: Calculating scores\n",
    "\n",
    "To facilitate the calculations and to avoid *underflow* and approximation errors, we use the log-sum trick, and we pass the equation into log-probabilities : \n",
    "\n",
    "$$ \\hat{c} = \\underset{c}{\\mathrm{argmax}} P(c|s) = \\underset{c}{\\mathrm{argmax}} \\left[ \\mathrm{log}(P(c)) + \\sum_{i=1..N}log(P(w_i|c)) \\right] $$\n",
    "\n",
    "#### Laplace smoothing\n",
    "\n",
    "A word that does not appear in a document has a probability of zero: this will cause issues with the logarithm. So we keep a very small part of the probability mass that we redistribute with the *Laplace smoothing*: \n",
    "\n",
    "$$P(w|c) = \\frac{T(w,c) + 1}{\\sum_{w' \\in V} (T(w',c) + 1)}$$\n",
    "\n",
    "There are other smoothing methods, generally suitable for other, more complex applications. "
   ]
  },
  {
   "cell_type": "markdown",
   "metadata": {},
   "source": [
    "### Detail: training\n",
    "\n",
    "The idea is to extract the number of occurrences $T(w,c)$ for each word $w$ and each class $c$, which will make it possible to calculate the matrix of conditional probabilities $\\pmb{P}$ such that: $$\\pmb{P}_{w,c} = P(w|c)$$\n",
    "\n",
    "Note that the number of occurrences $T(w,c)$ can be easily obtained from the BoW representations of all documents !\n",
    "\n",
    "#### Procedure:\n",
    "\n",
    "- Extract the vocabulary $V$ and counts $T(w,c)$ for each of the words $w$ and classes $c$, from a set of documents.\n",
    "- Calculate the a priori probabilities of the classes $P(c) = \\frac{|\\text{documents in class }c|}{|\\text{all documents}|}$\n",
    "- Calculate the conditional **smoothed** probabilities $P(w|c) = \\frac{T(w,c) + 1}{\\sum_{w' \\in V} T(w',c) + 1}$.\n",
    "\n",
    "### Detail: test\n",
    "\n",
    "We now know the conditional probabilities given by the $\\pmb{P}$ matrix. \n",
    "Now we must obtain $P(s|c)$ for the current document. This quantity is obtained using a simple calculation involving the BoW representation of the document and $\\pmb{P}$.\n",
    "\n",
    "#### Procedure:\n",
    "\n",
    "- For each of the classes $c$,\n",
    "    - $Score(c) = \\log P(c)$\n",
    "    - For each word $w$ in the document to be tested:\n",
    "        - $Score(c) += \\log P(w|c)$\n",
    "- Return $argmax_{c \\in C} Score(c)$ "
   ]
  },
  {
   "cell_type": "markdown",
   "metadata": {},
   "source": [
    "We will therefore be able to use the reviews at our disposal to **estimate the probabilities $P(w|c)$ for each word $w$ given the two classes $c$**. These reviews will allow us to learn how to evaluate the \"compatibility\" between words and classes.\n",
    "```python\n",
    "def fit(self, X, y)\n",
    "``` \n",
    "**Training**: will learn a statistical model based on the representations $X$ corresponding to the labels $y$.\n",
    "Here, $X$ contains representations obtained as the output of ```count_words```. You can complete the function using the procedure detailed above. \n",
    "\n",
    "Note: the smoothing is not necessarily done with a $1$ - it can be done with a positive value $\\alpha$, which we can implement as an argument of the class \"NB\".\n",
    "\n",
    "```python\n",
    "def predict(self, X)\n",
    "```\n",
    "**Testing**: will return the labels predicted by the model for other representations $X$.\n",
    "\n",
    "<div class='alert alert-block alert-info'>\n",
    "            Code:</div>"
   ]
  },
  {
   "cell_type": "code",
   "execution_count": 18,
   "metadata": {},
   "outputs": [],
   "source": [
    "class NB(BaseEstimator, ClassifierMixin):\n",
    "    # Class arguments allow class inheritance from sklearn\n",
    "    def __init__(self, alpha=1.0):\n",
    "        # alpha is the smoothing parameter: it corresponds to line 10 of the training algorithm\n",
    "        # By default, we use alpha = 1\n",
    "        self.alpha = alpha\n",
    "        self.vocabulary_size = None\n",
    "        self.class_prior = None\n",
    "        self.cond_probs = None\n",
    "\n",
    "    def fit(self, X, y):\n",
    "        n_samples, self.vocabulary_size = X.shape\n",
    "        n_classes = len(np.unique(y))\n",
    "\n",
    "        class_counts = np.zeros(n_classes)\n",
    "        word_counts = np.zeros((n_classes, self.vocabulary_size))\n",
    "\n",
    "        for index in range(n_samples):\n",
    "            class_index = y[index]\n",
    "            class_counts[class_index] += 1\n",
    "            word_counts[class_index] += X[index]\n",
    "\n",
    "        self.class_prior = class_counts / n_samples\n",
    "        self.cond_probs = (word_counts + self.alpha) / (\n",
    "            np.sum(word_counts, axis=1, keepdims=True)\n",
    "            + self.vocabulary_size * self.alpha\n",
    "        )\n",
    "\n",
    "        return self\n",
    "\n",
    "    def predict(self, X):\n",
    "        n_samples = X.shape[0]\n",
    "        scores = np.zeros((n_samples, len(self.class_prior)))\n",
    "\n",
    "        for index in range(n_samples):\n",
    "            for c in range(len(self.class_prior)):\n",
    "                scores[index, c] = np.log(self.class_prior[c]) + np.sum(\n",
    "                    np.log(self.cond_probs[c, X[index] > 0])\n",
    "                )\n",
    "\n",
    "        predictions = np.argmax(scores, axis=1)\n",
    "\n",
    "        return predictions\n",
    "\n",
    "    def score(self, X, y):\n",
    "        return np.mean(self.predict(X) == y)"
   ]
  },
  {
   "cell_type": "markdown",
   "metadata": {},
   "source": [
    "## III - Experimentation\n",
    "\n",
    "Experiment on this model with your own representations. **Visualize** the results with the following tools, and **compare with the representations of `CountVectorizer` / naïve Bayes model of scikit-learn `MultinomialNB`:**\n",
    "\n",
    "<div class='alert alert-block alert-info'>\n",
    "            Code:</div>"
   ]
  },
  {
   "cell_type": "code",
   "execution_count": 19,
   "metadata": {},
   "outputs": [],
   "source": [
    "from sklearn.metrics import (\n",
    "    confusion_matrix,\n",
    "    ConfusionMatrixDisplay,\n",
    "    classification_report,\n",
    ")"
   ]
  },
  {
   "cell_type": "code",
   "execution_count": 20,
   "metadata": {},
   "outputs": [
    {
     "name": "stdout",
     "output_type": "stream",
     "text": [
      "MultinomialNB with CountVectorizer representations:\n",
      "              precision    recall  f1-score   support\n",
      "\n",
      "           0       0.77      0.83      0.80       252\n",
      "           1       0.81      0.74      0.77       248\n",
      "\n",
      "    accuracy                           0.79       500\n",
      "   macro avg       0.79      0.79      0.79       500\n",
      "weighted avg       0.79      0.79      0.79       500\n",
      "\n"
     ]
    },
    {
     "data": {
      "image/png": "[encoded data removed]",
      "text/plain": [
       "<Figure size 640x480 with 2 Axes>"
      ]
     },
     "metadata": {},
     "output_type": "display_data"
    }
   ],
   "source": [
    "from sklearn.naive_bayes import MultinomialNB\n",
    "\n",
    "# 1. Train and Evaluate MultinomialNB with CountVectorizer representations\n",
    "X_train = train_bow_cv\n",
    "y_train = train_labels_splt\n",
    "X_val = val_bow_cv\n",
    "y_val = val_labels\n",
    "\n",
    "nb = MultinomialNB()\n",
    "nb.fit(X_train, y_train)\n",
    "y_pred = nb.predict(X_val)\n",
    "\n",
    "print(\"MultinomialNB with CountVectorizer representations:\")\n",
    "print(classification_report(y_val, y_pred))\n",
    "\n",
    "cm = confusion_matrix(y_val, y_pred, labels=[0, 1])\n",
    "disp = ConfusionMatrixDisplay(confusion_matrix=cm, display_labels=[0, 1])\n",
    "disp.plot()\n",
    "plt.show()"
   ]
  },
  {
   "cell_type": "code",
   "execution_count": 21,
   "metadata": {},
   "outputs": [
    {
     "name": "stdout",
     "output_type": "stream",
     "text": [
      "Your Naive Bayes classifier with your own representations:\n",
      "              precision    recall  f1-score   support\n",
      "\n",
      "           0       0.77      0.85      0.80       252\n",
      "           1       0.82      0.74      0.78       248\n",
      "\n",
      "    accuracy                           0.79       500\n",
      "   macro avg       0.80      0.79      0.79       500\n",
      "weighted avg       0.80      0.79      0.79       500\n",
      "\n"
     ]
    },
    {
     "data": {
      "image/png": "[encoded data removed]",
      "text/plain": [
       "<Figure size 640x480 with 2 Axes>"
      ]
     },
     "metadata": {},
     "output_type": "display_data"
    }
   ],
   "source": [
    "# 2. Train and Evaluate your Naive Bayes classifier with your own representations\n",
    "X_train = train_bow\n",
    "y_train = train_labels_splt\n",
    "X_val = val_bow\n",
    "y_val = val_labels\n",
    "\n",
    "nb = NB()\n",
    "nb.fit(X_train, y_train)\n",
    "y_pred = nb.predict(X_val)\n",
    "\n",
    "print(\"Your Naive Bayes classifier with your own representations:\")\n",
    "print(classification_report(y_val, y_pred))\n",
    "\n",
    "cm = confusion_matrix(y_val, y_pred, labels=[0, 1])\n",
    "disp = ConfusionMatrixDisplay(confusion_matrix=cm, display_labels=[0, 1])\n",
    "disp.plot()\n",
    "plt.show()"
   ]
  },
  {
   "cell_type": "markdown",
   "metadata": {},
   "source": [
    "<div class='alert alert-block alert-warning'>\n",
    "            Questions:</div>\n",
    "            \n",
    "Let us look at the *features* built by the `vectorizer`. What seems to be the issue ?\n",
    "\n",
    "<div class='alert alert-block alert-success'>\n",
    "            Answer:</div>\n",
    "\n",
    "The issue with the features built by the `vectorizer` is that they seem to include numerical tokens, such as ('00', '000', '00001', '007', '0080', etc.), found in multiple languages ('14ieme', '14th') and with or without diacritics ('14ieme', '16ième'), which might not be very informative or relevant for text classification tasks.\n",
    "\n",
    "Including such numerical tokens as features can lead to a couple of problems:\n",
    "\n",
    "- Sparsity: These numerical tokens might not occur frequently in the text data, leading to sparse feature representations. Sparse feature representations can pose challenges for machine learning models, especially for models like Naive Bayes that rely on counting occurrences of features.\n",
    "\n",
    "- Relevance: Numerical tokens might not carry much semantic meaning or discriminatory power for distinguishing between different classes of text documents. They are more likely to be noise than informative features"
   ]
  },
  {
   "cell_type": "code",
   "execution_count": 22,
   "metadata": {},
   "outputs": [
    {
     "name": "stdout",
     "output_type": "stream",
     "text": [
      "['00' '000' '00001' '007' '0079' '0080' '0083' '01' '05' '06' '07' '08'\n",
      " '09' '10' '100' '1000' '1000000' '100m' '101' '102' '103' '105' '10mil'\n",
      " '10th' '10yr' '11' '110' '1100' '11001001' '112' '12' '120' '125' '12s'\n",
      " '12th' '13' '134' '13th' '14' '145' '147' '14ieme' '14th' '15' '150' '16'\n",
      " '1692' '16th' '16ème' '17' '1700' '1794' '1798' '17th' '18' '180' '1800'\n",
      " '1814' '1840' '1840s' '1864' '1880' '1892' '1895' '1897' '18th' '19'\n",
      " '1907' '1910' '1912' '1914' '1916' '1918' '1920' '1920s' '1921' '1922'\n",
      " '1924' '1925' '1927' '1928' '1929' '1930' '1930s' '1931' '1932' '1933'\n",
      " '1934' '1935' '1936' '1937' '1938' '1939' '1940' '1940s' '1941' '1942'\n",
      " '1943' '1944' '1945']\n"
     ]
    }
   ],
   "source": [
    "print(vectorizer.get_feature_names_out()[:100])"
   ]
  },
  {
   "cell_type": "markdown",
   "metadata": {},
   "source": [
    "### Improving representations\n",
    "\n",
    "Mainly, the arguments of the class ```vectorizer``` will allow us to easily change the way our textual data is represented. Let us try to work on our *Bag-of-words* representations:\n",
    "   \n",
    "#### Do not take into account words that are too frequent:\n",
    "\n",
    "You can use the argument ```max_df=1.0``` to change the amount of words taken into account. \n",
    "\n",
    "#### Try different granularities:\n",
    "\n",
    "Rather than just counting words, we can count sequences of words - limited in size, of course. \n",
    "We call a sequence of $n$ words a $n$-gram: let's try using 2 and 3-grams (bi- and trigrams).\n",
    "We can also try to use character sequences instead of word sequences.\n",
    "\n",
    "We will be interested in the options ```analyze='word'``` and ```ngram_range=(1, 2)``` which we'll change to alter the granularity: **obtain classification results with them**.\n",
    "\n",
    "Again: using these ways of getting more features from our text will probably have more impact if we do not have much training data to begin with ! To accelerate experiments, use the ```Pipeline``` tool from scikit-learn. \n",
    "\n",
    "<div class='alert alert-block alert-info'>\n",
    "            Code:</div>"
   ]
  },
  {
   "cell_type": "code",
   "execution_count": 23,
   "metadata": {},
   "outputs": [],
   "source": [
    "from sklearn.pipeline import Pipeline"
   ]
  },
  {
   "cell_type": "code",
   "execution_count": 24,
   "metadata": {},
   "outputs": [
    {
     "name": "stdout",
     "output_type": "stream",
     "text": [
      "Base Pipeline:\n",
      "              precision    recall  f1-score   support\n",
      "\n",
      "           0       0.77      0.83      0.80       252\n",
      "           1       0.81      0.74      0.77       248\n",
      "\n",
      "    accuracy                           0.79       500\n",
      "   macro avg       0.79      0.79      0.79       500\n",
      "weighted avg       0.79      0.79      0.79       500\n",
      "\n"
     ]
    }
   ],
   "source": [
    "pipeline_base = Pipeline(\n",
    "    [\n",
    "        (\n",
    "            \"vect\",\n",
    "            CountVectorizer(\n",
    "                max_features=30000,\n",
    "                analyzer=\"word\",\n",
    "                stop_words=None,\n",
    "                max_df=1.0,\n",
    "                ngram_range=(1, 1),\n",
    "            ),\n",
    "        ),\n",
    "        (\"clf\", MultinomialNB()),\n",
    "    ]\n",
    ")\n",
    "\n",
    "print(\"Base Pipeline:\")\n",
    "pipeline_base.fit(train_texts_splt, train_labels_splt)\n",
    "y_pred = pipeline_base.predict(val_texts)\n",
    "print(classification_report(y_val, y_pred))"
   ]
  },
  {
   "cell_type": "code",
   "execution_count": 25,
   "metadata": {},
   "outputs": [
    {
     "name": "stdout",
     "output_type": "stream",
     "text": [
      "Improved Pipeline:\n",
      "              precision    recall  f1-score   support\n",
      "\n",
      "           0       0.84      0.83      0.83       252\n",
      "           1       0.83      0.83      0.83       248\n",
      "\n",
      "    accuracy                           0.83       500\n",
      "   macro avg       0.83      0.83      0.83       500\n",
      "weighted avg       0.83      0.83      0.83       500\n",
      "\n"
     ]
    }
   ],
   "source": [
    "pipeline_improved = Pipeline(\n",
    "    [\n",
    "        (\n",
    "            \"vect\",\n",
    "            CountVectorizer(\n",
    "                max_features=30000,\n",
    "                analyzer=\"word\",\n",
    "                stop_words=None,\n",
    "                max_df=0.9,\n",
    "                ngram_range=(2, 3),\n",
    "            ),\n",
    "        ),\n",
    "        (\"clf\", MultinomialNB()),\n",
    "    ]\n",
    ")\n",
    "\n",
    "print(\"Improved Pipeline:\")\n",
    "pipeline_improved.fit(train_texts_splt, train_labels_splt)\n",
    "y_pred = pipeline_improved.predict(val_texts)\n",
    "print(classification_report(y_val, y_pred))"
   ]
  },
  {
   "cell_type": "markdown",
   "metadata": {},
   "source": [
    "#### Tf-idf:\n",
    "\n",
    "This is the product of the frequency of the term (TF) and its inverse frequency in documents (IDF).\n",
    "This method is usually used to measure the importance of a term $i$ in a document $j$ relative to the rest of the corpus, from a matrix of occurrences $ words \\times documents$. Thus, for a matrix $\\mathbf{T}$ of $|V|$ terms and $D$ documents:\n",
    "$$\\text{TF}(T, w, d) = \\frac{T_{w,d}}{\\sum_{w'=1}^{|V|} T_{w',d}} $$\n",
    "\n",
    "$$\\text{IDF}(T, w) = \\log\\left(\\frac{D}{|\\{d : T_{w,d} > 0\\}|}\\right)$$\n",
    "\n",
    "$$\\text{TF-IDF}(T, w, d) = \\text{TF}(X, w, d) \\cdot \\text{IDF}(T, w)$$\n",
    "\n",
    "It can be adapted to our case by considering that the context of the second word is the document. However, TF-IDF is generally better suited to low-density matrices, since it will penalize terms that appear in a large part of the documents. "
   ]
  },
  {
   "cell_type": "markdown",
   "metadata": {},
   "source": [
    "Experiment with this new representations using the `TfidfTransformer` applied on top of `CountVectorizer`.\n",
    "\n",
    "<div class='alert alert-block alert-info'>\n",
    "            Code:</div>"
   ]
  },
  {
   "cell_type": "code",
   "execution_count": 26,
   "metadata": {},
   "outputs": [],
   "source": [
    "from sklearn.feature_extraction.text import TfidfTransformer"
   ]
  },
  {
   "cell_type": "code",
   "execution_count": 27,
   "metadata": {},
   "outputs": [
    {
     "name": "stdout",
     "output_type": "stream",
     "text": [
      "Base Pipeline with TF-IDF:\n",
      "              precision    recall  f1-score   support\n",
      "\n",
      "           0       0.75      0.90      0.82       252\n",
      "           1       0.87      0.69      0.77       248\n",
      "\n",
      "    accuracy                           0.80       500\n",
      "   macro avg       0.81      0.80      0.79       500\n",
      "weighted avg       0.81      0.80      0.79       500\n",
      "\n"
     ]
    }
   ],
   "source": [
    "pipeline_base = Pipeline(\n",
    "    [\n",
    "        (\n",
    "            \"vect\",\n",
    "            CountVectorizer(\n",
    "                max_features=30000,\n",
    "                analyzer=\"word\",\n",
    "                stop_words=None,\n",
    "                max_df=1.0,\n",
    "                ngram_range=(1, 1),\n",
    "            ),\n",
    "        ),\n",
    "        (\"tfidf\", TfidfTransformer()),\n",
    "        (\"clf\", MultinomialNB()),\n",
    "    ]\n",
    ")\n",
    "\n",
    "print(\"Base Pipeline with TF-IDF:\")\n",
    "pipeline_base.fit(train_texts_splt, train_labels_splt)\n",
    "y_pred = pipeline_base.predict(val_texts)\n",
    "print(classification_report(y_val, y_pred))"
   ]
  },
  {
   "cell_type": "code",
   "execution_count": 28,
   "metadata": {},
   "outputs": [
    {
     "name": "stdout",
     "output_type": "stream",
     "text": [
      "Improved Pipeline with TF-IDF:\n",
      "              precision    recall  f1-score   support\n",
      "\n",
      "           0       0.84      0.83      0.84       252\n",
      "           1       0.83      0.84      0.84       248\n",
      "\n",
      "    accuracy                           0.84       500\n",
      "   macro avg       0.84      0.84      0.84       500\n",
      "weighted avg       0.84      0.84      0.84       500\n",
      "\n"
     ]
    }
   ],
   "source": [
    "pipeline_improved = Pipeline(\n",
    "    [\n",
    "        (\n",
    "            \"vect\",\n",
    "            CountVectorizer(\n",
    "                max_features=30000,\n",
    "                analyzer=\"word\",\n",
    "                stop_words=None,\n",
    "                max_df=0.9,\n",
    "                ngram_range=(2, 3),\n",
    "            ),\n",
    "        ),\n",
    "        (\"tfidf\", TfidfTransformer()),\n",
    "        (\"clf\", MultinomialNB()),\n",
    "    ]\n",
    ")\n",
    "\n",
    "print(\"Improved Pipeline with TF-IDF:\")\n",
    "pipeline_improved.fit(train_texts_splt, train_labels_splt)\n",
    "y_pred = pipeline_improved.predict(val_texts)\n",
    "print(classification_report(y_val, y_pred))"
   ]
  },
  {
   "cell_type": "markdown",
   "metadata": {},
   "source": [
    "## IV - More pre-processing: getting vocabularies\n",
    "\n",
    "For more flexibility, we will implement separately a function returning the vocabulary. Here we will have to be able to control its size, either by indicating a **maximum number of words**, or a **minimum number of occurrences** to take the words into account. **We add, at the end, an \"unknown\" word that will replace all the words that do not appear in our \"limited\" vocabulary**.\n",
    "<div class='alert alert-block alert-info'>\n",
    "            Code:</div>"
   ]
  },
  {
   "cell_type": "code",
   "execution_count": 29,
   "metadata": {},
   "outputs": [],
   "source": [
    "def vocabulary(corpus, count_threshold=5, voc_threshold=10000):\n",
    "    \"\"\"\n",
    "    Function using word counts to build a vocabulary - can be improved with a second parameter for\n",
    "    setting a frequency threshold\n",
    "    Params:\n",
    "        corpus (list of strings): corpus of sentences\n",
    "        count_threshold (int): number of occurences necessary for a word to be included in the vocabulary\n",
    "        voc_threshold (int): maximum size of the vocabulary. Use \"0\" to indicate no limit\n",
    "    Returns:\n",
    "        vocabulary (dictionary): keys: list of distinct words across the corpus\n",
    "                                 values: indexes corresponding to each word sorted by frequency\n",
    "        vocabulary_word_counts (dictionary): keys: list of distinct words across the corpus\n",
    "                                             values: corresponding counts of words in the corpus\n",
    "    \"\"\"\n",
    "    word_counts = {}\n",
    "    for sent in corpus:\n",
    "        # words = clean_and_tokenize(sent)\n",
    "        words = word_tokenize(sent.lower())\n",
    "        for word in words:\n",
    "            word_counts[word] = word_counts.get(word, 0) + 1\n",
    "\n",
    "    # Filter according to count_threhshold\n",
    "    filtered_word_counts = {\n",
    "        word: count for word, count in word_counts.items() if count >= count_threshold\n",
    "    }\n",
    "\n",
    "    # Extract the words according to frequency\n",
    "    sorted_words = sorted(\n",
    "        filtered_word_counts.items(), key=lambda x: x[1], reverse=True\n",
    "    )\n",
    "\n",
    "    # Remove the words above voc-threshold\n",
    "    filtered_words = (\n",
    "        sorted_words[:voc_threshold] if voc_threshold != 0 else sorted_words\n",
    "    )\n",
    "\n",
    "    # Add UNK\n",
    "    words = [word[0] for word in filtered_words] + [\"UNK\"]\n",
    "\n",
    "    # Create vocabulary from \"words\"\n",
    "    vocabulary = {word: index for index, word in enumerate(words)}\n",
    "\n",
    "    return vocabulary, {word: filtered_word_counts.get(word, 0) for word in vocabulary}"
   ]
  },
  {
   "cell_type": "code",
   "execution_count": 30,
   "metadata": {},
   "outputs": [
    {
     "name": "stdout",
     "output_type": "stream",
     "text": [
      "{'down': 0, 'the': 1, 'i': 2, 'UNK': 3}\n",
      "{'down': 6, 'the': 6, 'i': 5, 'UNK': 0}\n"
     ]
    }
   ],
   "source": [
    "# Example for testing:\n",
    "corpus = [\n",
    "    \"I walked down down the boulevard\",\n",
    "    \"I walked down the avenue\",\n",
    "    \"I ran down the boulevard\",\n",
    "    \"I walk down the city\",\n",
    "    \"I walk down the the avenue\",\n",
    "]\n",
    "\n",
    "voc, counts = vocabulary(corpus, count_threshold=3)\n",
    "print(voc)\n",
    "print(counts)\n",
    "\n",
    "# We expect something like this:\n",
    "# (In this example, we don't count 'UNK' unknown words, but you can if you want to.)\n",
    "# How useful it may be depends on the data -> we will use the counts later with word2vec, keep that in mind)\n",
    "#  {'down': 0, 'the': 1, 'i': 2, 'UNK': 3}\n",
    "#  {'down': 6, 'the': 6, 'i': 5, 'UNK': 0}"
   ]
  },
  {
   "cell_type": "code",
   "execution_count": 31,
   "metadata": {},
   "outputs": [
    {
     "name": "stdout",
     "output_type": "stream",
     "text": [
      "{'down': 0, 'the': 1, 'i': 2, 'walked': 3, 'boulevard': 4, 'avenue': 5, 'walk': 6, 'ran': 7, 'city': 8, 'UNK': 9}\n",
      "{'down': 6, 'the': 6, 'i': 5, 'walked': 2, 'boulevard': 2, 'avenue': 2, 'walk': 2, 'ran': 1, 'city': 1, 'UNK': 0}\n"
     ]
    }
   ],
   "source": [
    "voc, counts = vocabulary(corpus, count_threshold=0)\n",
    "print(voc)\n",
    "print(counts)\n",
    "\n",
    "# We expect something like this:\n",
    "#  {'down': 0, 'the': 1, 'i': 2, 'walked': 3, 'boulevard': 4, 'avenue': 5, 'walk': 6, 'ran': 7, 'city': 8, 'UNK': 9}\n",
    "#  {'down': 6, 'the': 6, 'i': 5, 'walked': 2, 'boulevard': 2, 'avenue': 2, 'walk': 2, 'ran': 1, 'city': 1, 'UNK': 0}"
   ]
  },
  {
   "cell_type": "markdown",
   "metadata": {},
   "source": [
    "### Quick study of the data\n",
    "\n",
    "We would like to get an idea of what's in these film reviews. So we'll get the vocabulary (in full) and represent the frequencies of the words, in order (be careful, you'll have to use a logarithmic scale): we should find back Zipf's law. This will give us an idea of the size of the vocabulary we will be able to choose: it's a matter of making a compromise between the necessary resources (size of the objects in memory) and the amount of information we can get from them (rare words can bring a lot of information, but it's difficult to learn good representations of them, because they are rare!).  \n",
    "\n",
    "<div class='alert alert-block alert-info'>\n",
    "            Code:</div>"
   ]
  },
  {
   "cell_type": "code",
   "execution_count": 32,
   "metadata": {},
   "outputs": [],
   "source": [
    "# We would like to display the curve of word frequencies given their rank (index) in the vocabulary\n",
    "vocab, word_counts = vocabulary(train_texts)"
   ]
  },
  {
   "cell_type": "code",
   "execution_count": 33,
   "metadata": {},
   "outputs": [
    {
     "data": {
      "image/png": "[encoded data removed]",
      "text/plain": [
       "<Figure size 1600x400 with 1 Axes>"
      ]
     },
     "metadata": {},
     "output_type": "display_data"
    }
   ],
   "source": [
    "ranks = range(1, len(word_counts) + 1)\n",
    "counts = list(word_counts.values())\n",
    "\n",
    "\n",
    "plt.figure(figsize=(20, 5), dpi=80)\n",
    "\n",
    "plt.scatter(ranks, counts, marker=\".\")\n",
    "\n",
    "plt.title(\"Word counts versus rank\", fontsize=22)\n",
    "plt.xlabel(\"Rank\", fontsize=20)\n",
    "plt.ylabel(\"Word counts\", fontsize=20)\n",
    "\n",
    "plt.yscale(\"log\")\n",
    "plt.xticks(fontsize=12, alpha=0.7)\n",
    "plt.yticks(fontsize=12, alpha=0.7)\n",
    "plt.grid(axis=\"both\", alpha=0.3)\n",
    "\n",
    "plt.gca().spines[[\"top\", \"right\"]].set_alpha(0.0)\n",
    "plt.gca().spines[[\"bottom\", \"left\"]].set_alpha(0.3)\n",
    "\n",
    "plt.show()"
   ]
  },
  {
   "cell_type": "code",
   "execution_count": 34,
   "metadata": {},
   "outputs": [
    {
     "name": "stdout",
     "output_type": "stream",
     "text": [
      "Vocabulary size: 10001\n",
      "Top 100 words represent 60.82807% of the corpus\n",
      "Top 1000 words represent 84.51369% of the corpus\n",
      "Top 10000 words represent 100.00000% of the corpus\n"
     ]
    },
    {
     "data": {
      "image/png": "[encoded data removed]",
      "text/plain": [
       "<Figure size 1600x400 with 1 Axes>"
      ]
     },
     "metadata": {},
     "output_type": "display_data"
    }
   ],
   "source": [
    "# We would like to know how much of the data is represented by the 'k' most frequent words\n",
    "total_vocab_size = len(vocab)\n",
    "print(f\"Vocabulary size: {total_vocab_size}\")\n",
    "\n",
    "\n",
    "k_values = [99, 999, 9999]\n",
    "cumulative_counts = 100 * np.cumsum(counts) / np.sum(counts)\n",
    "for k in k_values:\n",
    "    print(f\"Top {k+1} words represent {cumulative_counts[k]:.5f}% of the corpus\")\n",
    "\n",
    "\n",
    "plt.figure(figsize=(20, 5), dpi=80)\n",
    "\n",
    "plt.scatter(ranks, cumulative_counts, marker=\".\")\n",
    "plt.axhline(90, linestyle=\"-\", c=\"r\")\n",
    "\n",
    "plt.title(\"Percentage of Corpus Represented by Top k Words\", fontsize=22)\n",
    "plt.xlabel(\"Rank\", fontsize=20)\n",
    "plt.ylabel(\"Percentage of Corpus (%)\", fontsize=20)\n",
    "\n",
    "plt.yscale(\"log\")\n",
    "plt.xticks(fontsize=12, alpha=0.7)\n",
    "plt.yticks(fontsize=12, alpha=0.7)\n",
    "plt.grid(axis=\"both\", alpha=0.3)\n",
    "\n",
    "plt.gca().spines[[\"top\", \"right\"]].set_alpha(0.0)\n",
    "plt.gca().spines[[\"bottom\", \"left\"]].set_alpha(0.3)\n",
    "\n",
    "plt.show()"
   ]
  },
  {
   "cell_type": "markdown",
   "metadata": {},
   "source": [
    "<div class='alert alert-block alert-warning'>\n",
    "            Questions:</div>\n",
    "            \n",
    "`Word2vec`'s implementation cuts the vocabulary size by using **only words with at least 5 occurrences**, by default. What vocabulary size would it give here ? Does it seem like a good compromise, looking at the graph ? \n",
    "\n",
    "<div class='alert alert-block alert-success'>\n",
    "            Answer:</div>\n",
    "\n",
    "Given that around $2000$ words seem to explain $90\\%$ of the corpus, it suggests that a large portion of the corpus is represented by relatively frequent words. Therefore, removing words with fewer occurrences than around $250$ occurrences would likely be more appropriate than removing only words with $5$ occurrences.\n",
    "\n",
    "Setting a higher threshold for the minimum number of occurrences, such as $250$ occurrences, would retain the most informative and meaningful words in the vocabulary while still significantly reducing the vocabulary size. This approach ensures that the vocabulary focuses on the most relevant words, which are more likely to capture the essence of the corpus effectively.\n",
    "\n",
    "It is important to consider, however that rare words may contain important information for the given task (such as sentiment analysis), however they require more memory and may be a less sparse representation of the data, which could be harder to extract generalizable information and draw visualizations from. One should carefully analyze the specific circumstances of the problem and tune its hyperparameters, such as the word count threshold, and compare the training results to the validation results to accomplish a good modelling."
   ]
  },
  {
   "cell_type": "code",
   "execution_count": 35,
   "metadata": {},
   "outputs": [
    {
     "name": "stdout",
     "output_type": "stream",
     "text": [
      "Word2Vec's vocabulary size (with at least 5 occurrences): 10000\n",
      "Total vocabulary size: 10001\n"
     ]
    }
   ],
   "source": [
    "# Count the number of words with at least 5 occurrences\n",
    "word2vec_vocab_size = sum(1 for count in word_counts.values() if count >= 5)\n",
    "\n",
    "print(\"Word2Vec's vocabulary size (with at least 5 occurrences):\", word2vec_vocab_size)\n",
    "print(\"Total vocabulary size:\", total_vocab_size)"
   ]
  },
  {
   "cell_type": "code",
   "execution_count": 36,
   "metadata": {},
   "outputs": [
    {
     "data": {
      "text/plain": [
       "[('UNK', 0), ('ounce', 31), ('outsider', 31), ('come.', 31), ('krishna', 31)]"
      ]
     },
     "execution_count": 36,
     "metadata": {},
     "output_type": "execute_result"
    }
   ],
   "source": [
    "sorted(word_counts.items(), key=lambda x: x[1], reverse=False)[:5]"
   ]
  },
  {
   "cell_type": "code",
   "execution_count": 37,
   "metadata": {},
   "outputs": [
    {
     "name": "stdout",
     "output_type": "stream",
     "text": [
      "Top 2000 words represent 90.06130% of the corpus\n",
      "2000th word has 251 occurrences\n"
     ]
    }
   ],
   "source": [
    "print(f\"Top 2000 words represent {cumulative_counts[2000]:.5f}% of the corpus\" )\n",
    "print(f\"2000th word has {list(word_counts.values())[2000]} occurrences\")"
   ]
  },
  {
   "cell_type": "markdown",
   "metadata": {},
   "source": [
    "### With pre-processing tools from NLTK\n",
    "\n",
    "We are now going to pre-process our textual data. **Note that this still will only be useful if we do not have a lot of training data to begin with !**"
   ]
  },
  {
   "cell_type": "markdown",
   "metadata": {},
   "source": [
    "#### Stemming \n",
    "\n",
    "Allows to go back to the root of a word: you can group different words around the same root, which facilitates generalization. Use:\n",
    "```from nltk import SnowballStemmer```"
   ]
  },
  {
   "cell_type": "code",
   "execution_count": 38,
   "metadata": {},
   "outputs": [],
   "source": [
    "from nltk import SnowballStemmer\n",
    "\n",
    "stemmer = SnowballStemmer(\"english\")"
   ]
  },
  {
   "cell_type": "markdown",
   "metadata": {},
   "source": [
    "**Example:**"
   ]
  },
  {
   "cell_type": "code",
   "execution_count": 39,
   "metadata": {},
   "outputs": [
    {
     "name": "stdout",
     "output_type": "stream",
     "text": [
      "word : singers ; stemmed : singer\n",
      "word : cat ; stemmed : cat\n",
      "word : generalization ; stemmed : general\n",
      "word : philosophy ; stemmed : philosophi\n",
      "word : psychology ; stemmed : psycholog\n",
      "word : philosopher ; stemmed : philosoph\n"
     ]
    }
   ],
   "source": [
    "words = [\"singers\", \"cat\", \"generalization\", \"philosophy\", \"psychology\", \"philosopher\"]\n",
    "for word in words:\n",
    "    print(\"word : %s ; stemmed : %s\" % (word, stemmer.stem(word)))"
   ]
  },
  {
   "cell_type": "markdown",
   "metadata": {},
   "source": [
    "**Data transformation:**\n",
    "\n",
    "<div class='alert alert-block alert-info'>\n",
    "            Code:</div>"
   ]
  },
  {
   "cell_type": "code",
   "execution_count": 40,
   "metadata": {},
   "outputs": [],
   "source": [
    "def stem(texts):\n",
    "    \"\"\"\n",
    "    Perform stemming on a list of texts.\n",
    "    Params:\n",
    "        texts (list of str): List of texts to be stemmed.\n",
    "    Returns:\n",
    "        stemmed_texts (list of str): List of stemmed texts.\n",
    "    \"\"\"\n",
    "    stemmer = SnowballStemmer(\"english\")\n",
    "\n",
    "    stemmed_texts = []\n",
    "    for text in texts:\n",
    "        # words = clean_and_tokenize(text)\n",
    "        words = word_tokenize(text.lower())\n",
    "\n",
    "        stemmed_text = \" \".join([stemmer.stem(word) for word in words])\n",
    "        stemmed_texts.append(stemmed_text)\n",
    "\n",
    "    return stemmed_texts"
   ]
  },
  {
   "cell_type": "markdown",
   "metadata": {},
   "source": [
    "#### Part of speech tags\n",
    "\n",
    "To generalize, we can also use the Part of Speech (POS) of the words, which will allow us to filter out information that is potentially not useful to the model. We will retrieve the POS of the words using the functions:\n",
    "```pos_tag```"
   ]
  },
  {
   "cell_type": "code",
   "execution_count": 41,
   "metadata": {},
   "outputs": [],
   "source": [
    "import nltk\n",
    "from nltk import pos_tag, word_tokenize"
   ]
  },
  {
   "cell_type": "markdown",
   "metadata": {},
   "source": [
    "**Example:**"
   ]
  },
  {
   "cell_type": "code",
   "execution_count": 42,
   "metadata": {},
   "outputs": [
    {
     "data": {
      "text/plain": [
       "[('I', 'PRP'), ('am', 'VBP'), ('Sam', 'NNP')]"
      ]
     },
     "execution_count": 42,
     "metadata": {},
     "output_type": "execute_result"
    }
   ],
   "source": [
    "import nltk\n",
    "\n",
    "# nltk.download(\"punkt\")\n",
    "# nltk.download(\"averaged_perceptron_tagger\")\n",
    "\n",
    "pos_tag(word_tokenize((\"I am Sam\")))"
   ]
  },
  {
   "cell_type": "markdown",
   "metadata": {},
   "source": [
    "**Data transformation:** only keep nouns, verbs, adverbs, and adjectives (```['NN', 'VB', 'ADJ', 'RB']```) for our model.\n",
    "\n",
    "<div class='alert alert-block alert-info'>\n",
    "            Code:</div>"
   ]
  },
  {
   "cell_type": "code",
   "execution_count": 43,
   "metadata": {},
   "outputs": [],
   "source": [
    "# On version 3.8.1 of NLTK, ADJ does not exist, and rather JJ is used for adjectives\n",
    "def pos_tag_filter(X, good_tags=[\"NN\", \"VB\", \"JJ\", \"RB\"]):\n",
    "    \"\"\"\n",
    "    Perform part-of-speech tagging and filter out words with specified tags.\n",
    "    Params:\n",
    "        X (list of str): List of texts to be processed.\n",
    "        good_tags (list of str): List of POS tags to keep.\n",
    "    Returns:\n",
    "        X_pos (list of str): List of filtered texts.\n",
    "    \"\"\"\n",
    "    X_pos = []\n",
    "\n",
    "    for text in X:\n",
    "        # words = clean_and_tokenize(text)\n",
    "        words = word_tokenize(text.lower())\n",
    "\n",
    "        tagged_words = pos_tag(words)\n",
    "\n",
    "        filtered_text = \" \".join(\n",
    "            [word for word, tag in tagged_words if tag in good_tags]\n",
    "        )\n",
    "\n",
    "        X_pos.append(filtered_text)\n",
    "\n",
    "    return X_pos"
   ]
  },
  {
   "cell_type": "markdown",
   "metadata": {},
   "source": [
    "### Application\n",
    "\n",
    "<div class='alert alert-block alert-warning'>\n",
    "            Questions:</div>\n",
    "\n",
    "Re-draw the Zipf distribution of our data **after reducing their vocabulary with these functions**. How is it affected ? How do you think it could affect results here ?         \n",
    "\n",
    "<div class='alert alert-block alert-success'>\n",
    "            Answer:</div>\n",
    "\n",
    "After reducing the vocabulary with stemming and part-of-speech tagging, the Zipf distribution of the data is affected in several ways:\n",
    "\n",
    "1. Reduction in Vocabulary Size: The number of unique words in the vocabulary decreases after pre-processing. This reduction in vocabulary size leads to a decrease in the frequency of rare words and a more focused representation of the corpus.\n",
    "\n",
    "2. Changes in Word Frequencies: The frequencies of words in the corpus changes after pre-processing. Stemming and filtering based on part-of-speech tags results in certain words being merged together (due to stemming) or removed entirely (if they do not belong to the specified part-of-speech tags).\n",
    "\n",
    "3. Impact on Model Performance: The pre-processing steps could affect the performance of models trained on the pre-processed data. By focusing on specific parts of speech and reducing noise in the data (e.g., removing irrelevant words), the pre-processed data may lead to more effective models with improved generalization capabilities. However, it's also possible that certain linguistic nuances or information contained in the discarded words could be lost, potentially impacting the model's ability to capture certain aspects of the data.\n",
    "\n",
    "<div class='alert alert-block alert-info'>\n",
    "            Code:</div>        "
   ]
  },
  {
   "cell_type": "code",
   "execution_count": 44,
   "metadata": {},
   "outputs": [],
   "source": [
    "# Pre-process the textual data\n",
    "stemmed_texts = stem(train_texts)\n",
    "filtered_texts = pos_tag_filter(stemmed_texts)\n",
    "\n",
    "# Calculate word frequencies\n",
    "vocab_filtered, word_counts_filtered = vocabulary(filtered_texts)"
   ]
  },
  {
   "cell_type": "code",
   "execution_count": 45,
   "metadata": {},
   "outputs": [
    {
     "data": {
      "image/png": "[encoded data removed]",
      "text/plain": [
       "<Figure size 1600x400 with 1 Axes>"
      ]
     },
     "metadata": {},
     "output_type": "display_data"
    }
   ],
   "source": [
    "ranks_filtered = range(1, len(word_counts_filtered) + 1)\n",
    "counts_filtered = list(word_counts_filtered.values())\n",
    "\n",
    "plt.figure(figsize=(20, 5), dpi=80)\n",
    "\n",
    "plt.scatter(ranks_filtered, counts_filtered, marker=\".\")\n",
    "\n",
    "plt.title(\"Word counts versus rank (after filtering)\", fontsize=22)\n",
    "plt.xlabel(\"Rank\", fontsize=20)\n",
    "plt.ylabel(\"Word counts\", fontsize=20)\n",
    "\n",
    "plt.yscale(\"log\")\n",
    "plt.xticks(fontsize=12, alpha=0.7)\n",
    "plt.yticks(fontsize=12, alpha=0.7)\n",
    "plt.grid(axis=\"both\", alpha=0.3)\n",
    "\n",
    "plt.gca().spines[[\"top\", \"right\"]].set_alpha(0.0)\n",
    "plt.gca().spines[[\"bottom\", \"left\"]].set_alpha(0.3)\n",
    "\n",
    "plt.show()"
   ]
  },
  {
   "cell_type": "code",
   "execution_count": 46,
   "metadata": {},
   "outputs": [
    {
     "name": "stdout",
     "output_type": "stream",
     "text": [
      "Vocabulary size: 10001\n",
      "Top 100 words represent 37.49158% of the corpus\n",
      "Top 1000 words represent 74.15722% of the corpus\n",
      "Top 10000 words represent 100.00000% of the corpus\n"
     ]
    },
    {
     "data": {
      "image/png": "[encoded data removed]",
      "text/plain": [
       "<Figure size 1600x400 with 1 Axes>"
      ]
     },
     "metadata": {},
     "output_type": "display_data"
    }
   ],
   "source": [
    "# We would like to know how much of the data is represented by the 'k' most frequent words\n",
    "total_vocab_size = len(vocab_filtered)\n",
    "print(f\"Vocabulary size: {total_vocab_size}\")\n",
    "\n",
    "\n",
    "k_values = [99, 999, 9999]\n",
    "cumulative_counts = 100 * np.cumsum(counts_filtered) / np.sum(counts_filtered)\n",
    "for k in k_values:\n",
    "    print(f\"Top {k+1} words represent {cumulative_counts[k]:.5f}% of the corpus\")\n",
    "\n",
    "\n",
    "plt.figure(figsize=(20, 5), dpi=80)\n",
    "\n",
    "plt.scatter(ranks, cumulative_counts, marker=\".\")\n",
    "plt.axhline(90, linestyle=\"-\", c=\"r\")\n",
    "\n",
    "plt.title(\"Percentage of Corpus Represented by Top k Words\", fontsize=22)\n",
    "plt.xlabel(\"Rank\", fontsize=20)\n",
    "plt.ylabel(\"Percentage of Corpus (%)\", fontsize=20)\n",
    "\n",
    "plt.yscale(\"log\")\n",
    "plt.xticks(fontsize=12, alpha=0.7)\n",
    "plt.yticks(fontsize=12, alpha=0.7)\n",
    "plt.grid(axis=\"both\", alpha=0.3)\n",
    "\n",
    "plt.gca().spines[[\"top\", \"right\"]].set_alpha(0.0)\n",
    "plt.gca().spines[[\"bottom\", \"left\"]].set_alpha(0.3)\n",
    "\n",
    "plt.show()"
   ]
  }
 ],
 "metadata": {
  "anaconda-cloud": {},
  "kernelspec": {
   "display_name": "Python 3 (ipykernel)",
   "language": "python",
   "name": "python3"
  },
  "language_info": {
   "codemirror_mode": {
    "name": "ipython",
    "version": 3
   },
   "file_extension": ".py",
   "mimetype": "text/x-python",
   "name": "python",
   "nbconvert_exporter": "python",
   "pygments_lexer": "ipython3",
   "version": "3.11.8"
  }
 },
 "nbformat": 4,
 "nbformat_minor": 1
}
